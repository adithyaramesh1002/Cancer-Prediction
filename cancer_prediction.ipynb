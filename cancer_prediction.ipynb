{
 "cells": [
  {
   "cell_type": "markdown",
   "metadata": {},
   "source": [
    "#### Importing libraries and reading data set"
   ]
  },
  {
   "cell_type": "code",
   "execution_count": 26,
   "metadata": {},
   "outputs": [
    {
     "name": "stdout",
     "output_type": "stream",
     "text": [
      "Dimension (569, 31)\n"
     ]
    },
    {
     "data": {
      "text/html": [
       "<div>\n",
       "<style scoped>\n",
       "    .dataframe tbody tr th:only-of-type {\n",
       "        vertical-align: middle;\n",
       "    }\n",
       "\n",
       "    .dataframe tbody tr th {\n",
       "        vertical-align: top;\n",
       "    }\n",
       "\n",
       "    .dataframe thead th {\n",
       "        text-align: right;\n",
       "    }\n",
       "</style>\n",
       "<table border=\"1\" class=\"dataframe\">\n",
       "  <thead>\n",
       "    <tr style=\"text-align: right;\">\n",
       "      <th></th>\n",
       "      <th>Diagnosis</th>\n",
       "      <th>radius_mean</th>\n",
       "      <th>radius_sd</th>\n",
       "      <th>radius_worst</th>\n",
       "      <th>texture_mean</th>\n",
       "      <th>texture_sd</th>\n",
       "      <th>texture_worst</th>\n",
       "      <th>perimeter_mean</th>\n",
       "      <th>perimeter_sd</th>\n",
       "      <th>perimeter_worst</th>\n",
       "      <th>...</th>\n",
       "      <th>concavity_worst</th>\n",
       "      <th>concave_points_mean</th>\n",
       "      <th>concave_points_sd</th>\n",
       "      <th>concave_points_worst</th>\n",
       "      <th>symmertry_mean</th>\n",
       "      <th>symmertry_sd</th>\n",
       "      <th>symmertry_worst</th>\n",
       "      <th>fractal_dimension_mean</th>\n",
       "      <th>fractal_dimension_sd</th>\n",
       "      <th>fractal_dimension_worst</th>\n",
       "    </tr>\n",
       "  </thead>\n",
       "  <tbody>\n",
       "    <tr>\n",
       "      <th>842302</th>\n",
       "      <td>M</td>\n",
       "      <td>17.99</td>\n",
       "      <td>10.38</td>\n",
       "      <td>122.8</td>\n",
       "      <td>1001.0</td>\n",
       "      <td>0.11840</td>\n",
       "      <td>0.27760</td>\n",
       "      <td>0.3001</td>\n",
       "      <td>0.14710</td>\n",
       "      <td>0.2419</td>\n",
       "      <td>...</td>\n",
       "      <td>25.38</td>\n",
       "      <td>17.33</td>\n",
       "      <td>184.6</td>\n",
       "      <td>2019.0</td>\n",
       "      <td>0.1622</td>\n",
       "      <td>0.6656</td>\n",
       "      <td>0.7119</td>\n",
       "      <td>0.2654</td>\n",
       "      <td>0.4601</td>\n",
       "      <td>0.11890</td>\n",
       "    </tr>\n",
       "    <tr>\n",
       "      <th>842517</th>\n",
       "      <td>M</td>\n",
       "      <td>20.57</td>\n",
       "      <td>17.77</td>\n",
       "      <td>132.9</td>\n",
       "      <td>1326.0</td>\n",
       "      <td>0.08474</td>\n",
       "      <td>0.07864</td>\n",
       "      <td>0.0869</td>\n",
       "      <td>0.07017</td>\n",
       "      <td>0.1812</td>\n",
       "      <td>...</td>\n",
       "      <td>24.99</td>\n",
       "      <td>23.41</td>\n",
       "      <td>158.8</td>\n",
       "      <td>1956.0</td>\n",
       "      <td>0.1238</td>\n",
       "      <td>0.1866</td>\n",
       "      <td>0.2416</td>\n",
       "      <td>0.1860</td>\n",
       "      <td>0.2750</td>\n",
       "      <td>0.08902</td>\n",
       "    </tr>\n",
       "    <tr>\n",
       "      <th>84300903</th>\n",
       "      <td>M</td>\n",
       "      <td>19.69</td>\n",
       "      <td>21.25</td>\n",
       "      <td>130.0</td>\n",
       "      <td>1203.0</td>\n",
       "      <td>0.10960</td>\n",
       "      <td>0.15990</td>\n",
       "      <td>0.1974</td>\n",
       "      <td>0.12790</td>\n",
       "      <td>0.2069</td>\n",
       "      <td>...</td>\n",
       "      <td>23.57</td>\n",
       "      <td>25.53</td>\n",
       "      <td>152.5</td>\n",
       "      <td>1709.0</td>\n",
       "      <td>0.1444</td>\n",
       "      <td>0.4245</td>\n",
       "      <td>0.4504</td>\n",
       "      <td>0.2430</td>\n",
       "      <td>0.3613</td>\n",
       "      <td>0.08758</td>\n",
       "    </tr>\n",
       "  </tbody>\n",
       "</table>\n",
       "<p>3 rows × 31 columns</p>\n",
       "</div>"
      ],
      "text/plain": [
       "         Diagnosis  radius_mean  radius_sd  radius_worst  texture_mean  \\\n",
       "842302           M        17.99      10.38         122.8        1001.0   \n",
       "842517           M        20.57      17.77         132.9        1326.0   \n",
       "84300903         M        19.69      21.25         130.0        1203.0   \n",
       "\n",
       "          texture_sd  texture_worst  perimeter_mean  perimeter_sd  \\\n",
       "842302       0.11840        0.27760          0.3001       0.14710   \n",
       "842517       0.08474        0.07864          0.0869       0.07017   \n",
       "84300903     0.10960        0.15990          0.1974       0.12790   \n",
       "\n",
       "          perimeter_worst           ...             concavity_worst  \\\n",
       "842302             0.2419           ...                       25.38   \n",
       "842517             0.1812           ...                       24.99   \n",
       "84300903           0.2069           ...                       23.57   \n",
       "\n",
       "          concave_points_mean  concave_points_sd  concave_points_worst  \\\n",
       "842302                  17.33              184.6                2019.0   \n",
       "842517                  23.41              158.8                1956.0   \n",
       "84300903                25.53              152.5                1709.0   \n",
       "\n",
       "          symmertry_mean  symmertry_sd  symmertry_worst  \\\n",
       "842302            0.1622        0.6656           0.7119   \n",
       "842517            0.1238        0.1866           0.2416   \n",
       "84300903          0.1444        0.4245           0.4504   \n",
       "\n",
       "          fractal_dimension_mean  fractal_dimension_sd  \\\n",
       "842302                    0.2654                0.4601   \n",
       "842517                    0.1860                0.2750   \n",
       "84300903                  0.2430                0.3613   \n",
       "\n",
       "          fractal_dimension_worst  \n",
       "842302                    0.11890  \n",
       "842517                    0.08902  \n",
       "84300903                  0.08758  \n",
       "\n",
       "[3 rows x 31 columns]"
      ]
     },
     "execution_count": 26,
     "metadata": {},
     "output_type": "execute_result"
    }
   ],
   "source": [
    "# Importi required libraries\n",
    "%matplotlib inline\n",
    "from sklearn import tree, neighbors, datasets, linear_model\n",
    "from sklearn.model_selection import cross_val_score, train_test_split\n",
    "from sklearn.model_selection import cross_validate,GridSearchCV\n",
    "from sklearn import metrics, linear_model\n",
    "import matplotlib.pyplot as plt\n",
    "from matplotlib.colors import ListedColormap\n",
    "from mpl_toolkits.mplot3d import Axes3D\n",
    "import numpy as np\n",
    "import pandas as pd\n",
    "import warnings\n",
    "warnings.filterwarnings('ignore')\n",
    "\n",
    "# Creating a dataframe by combining names and data\n",
    "v1=[\"mean\",\"sd\",\"worst\"]\n",
    "v2 = ['radius','texture','perimeter','area','smoothness','compactness',\n",
    "            'concavity','concave_points','symmertry','fractal_dimension']\n",
    "features = [i+\"_\"+j for i in v2 for j in v1]\n",
    "column_names = [\"Diagnosis\"]+ features\n",
    "\n",
    "# Read data set into pandas dataframe\n",
    "data = pd.read_csv(\"wdbc.data\",names=column_names)\n",
    "print(\"Dimension\",data.shape)\n",
    "data.head(3)"
   ]
  },
  {
   "cell_type": "markdown",
   "metadata": {},
   "source": []
  },
  {
   "cell_type": "markdown",
   "metadata": {},
   "source": [
    "#### Data split and Model Fitting"
   ]
  },
  {
   "cell_type": "code",
   "execution_count": 27,
   "metadata": {},
   "outputs": [
    {
     "name": "stdout",
     "output_type": "stream",
     "text": [
      "Train (455, 31)\n",
      "Test (114, 31)\n"
     ]
    }
   ],
   "source": [
    "# Split dataset into 80-20 using train_test_split function\n",
    "train_data, test_data = train_test_split(data,\n",
    "                                         test_size=0.20,\n",
    "                                         random_state=103)\n",
    "print(\"Train\",train_data.shape)\n",
    "print(\"Test\",test_data.shape)\n",
    "\n",
    "# Create variables for subsetting data set\n",
    "target = 'Diagnosis'\n",
    "predictors = features\n",
    "\n",
    "# Create mode_fit function for decision tree, knn and logistic regression\n",
    "# Perform a cross validation and gives accuracy on training data\n",
    "\n",
    "def model_fit(alg,train,test,predictors,target,feature_imp):\n",
    "    #fit model\n",
    "    alg.fit(train[predictors],train[target])\n",
    "    \n",
    "    \n",
    "    #alg.fit(train[predictors],train[target])\n",
    "    #prediction\n",
    "    train_predictions=alg.predict(train[predictors])\n",
    "    train_pred_prob=alg.predict_proba(train[predictors])[:,1]\n",
    "    \n",
    "    #print report\n",
    "    print(\"Training Accuracy: \",round(metrics.accuracy_score(\n",
    "        train[target].values,train_predictions),2))\n",
    "    \n",
    "    # Used to identify the most important feature\n",
    "    if feature_imp==1:\n",
    "        feat_imp=pd.Series(alg.feature_importances_,\n",
    "                           predictors).sort_values(ascending=False)\n",
    "        feat_imp.plot(kind='bar',title='Feature Importance')\n",
    "        plt.ylabel('Feature Importance Score')\n",
    "        \n",
    "    # Predict using testing dataset\n",
    "    test['Diagnosis_pred']=alg.predict(test[predictors])\n",
    "    test['Diagnosis_pred_proba']=alg.predict_proba(test[predictors])[:,1]\n",
    "    \n",
    "    # Calculate accuracy score on predicted values\n",
    "    test_accuracy = alg.score(test[predictors], test[target])\n",
    "    print(\"Testing Accuracy: \", round(test_accuracy,2))\n",
    "    \n",
    "    print(\"ROC-AUC: \", round(metrics.roc_auc_score(\n",
    "        test[target].values,test['Diagnosis_pred_proba'].values),2))\n",
    "    \n",
    "    print(\"Classification Report:\")\n",
    "    print(metrics.classification_report(test[target].values,\n",
    "                                        test['Diagnosis_pred'].values))\n",
    "    \n",
    "    print(\"Confusion Matrix: \")\n",
    "    print(pd.DataFrame(metrics.confusion_matrix(test[target].values,\n",
    "                                    test['Diagnosis_pred'].values)))\n",
    "    print(\"Labels: M - 1 | B - 0\")"
   ]
  },
  {
   "cell_type": "markdown",
   "metadata": {},
   "source": [
    "#### Method1: Decision Tree classifier"
   ]
  },
  {
   "cell_type": "markdown",
   "metadata": {},
   "source": [
    "Decision Boundary Visualization"
   ]
  },
  {
   "cell_type": "code",
   "execution_count": 28,
   "metadata": {},
   "outputs": [],
   "source": [
    "# Plot the decision surface of a decision tree\n",
    "plot_colors = \"bry\"\n",
    "plot_step = 0.02  # step size in the mesh\n",
    "X = data[['concave_points_sd','fractal_dimension_worst']] # We only take the two corresponding features\n",
    "y = data['Diagnosis']\n",
    "n_classes = len(set(y))\n",
    "\n",
    "# Train\n",
    "clf = tree.DecisionTreeClassifier().fit(X, y)\n",
    "\n",
    "# Plot the decision boundary. \n",
    "# For that, we will assign a color to each point in the mesh [x_min, m_max]x[y_min, y_max].   \n",
    "x_min, x_max = X['concave_points_sd'].min() - .5,X['concave_points_sd'].max() + .5\n",
    "y_min, y_max = X['fractal_dimension_worst'].min() - .5,X['fractal_dimension_worst'].max() + .5\n",
    "xx, yy = np.meshgrid(np.arange(x_min, x_max, plot_step),\n",
    "                         np.arange(y_min, y_max, plot_step))\n"
   ]
  },
  {
   "cell_type": "markdown",
   "metadata": {},
   "source": [
    "Depth of tree of hyper parameter"
   ]
  },
  {
   "cell_type": "code",
   "execution_count": 29,
   "metadata": {},
   "outputs": [
    {
     "data": {
      "image/png": "[encoded data removed]",
      "text/plain": [
       "<Figure size 432x288 with 1 Axes>"
      ]
     },
     "metadata": {
      "needs_background": "light"
     },
     "output_type": "display_data"
    }
   ],
   "source": [
    "complexity_values = range(1,20)\n",
    "train_accuracies = []\n",
    "test_accuracies=[]\n",
    "for complexity_value in complexity_values:\n",
    "    clf = tree.DecisionTreeClassifier(criterion=\"gini\",\n",
    "                                      max_depth=complexity_value)\n",
    "    test_accuracies.append(clf.fit(train_data[predictors],\n",
    "        train_data[target]).score(test_data[predictors],\n",
    "                                  test_data[target]))\n",
    "    \n",
    "    train_accuracies.append(clf.fit(train_data[predictors],\n",
    "        train_data[target]).score(train_data[predictors],\n",
    "                                  train_data[target]))\n",
    "    \n",
    "# We want to plot our results\n",
    "line1, =plt.plot(complexity_values, test_accuracies,\n",
    "                 label='test_accuracies')\n",
    "line2, =plt.plot(complexity_values, train_accuracies,\n",
    "                 label='train_accuracies')\n",
    "plt.xlabel(\"max_depth\")\n",
    "plt.ylabel(\"Accuracy\")\n",
    "plt.legend((line1, line2), ('test', 'train'))\n",
    "plt.show()"
   ]
  },
  {
   "cell_type": "markdown",
   "metadata": {},
   "source": [
    "Paramater tuning using grid search"
   ]
  },
  {
   "cell_type": "code",
   "execution_count": 30,
   "metadata": {},
   "outputs": [
    {
     "name": "stdout",
     "output_type": "stream",
     "text": [
      "Best obtained Score: 0.919929327176315\n",
      "Best obtained parameters: {'criterion': 'entropy', 'max_depth': 4}\n"
     ]
    }
   ],
   "source": [
    "param_test={'max_depth':list(range(1,20,1)),\n",
    "            'criterion':('gini','entropy')}\n",
    "f1_scorer = metrics.make_scorer(metrics.f1_score, pos_label=\"M\")\n",
    "gsearch=GridSearchCV(estimator=tree.DecisionTreeClassifier(random_state=10),\n",
    "                      param_grid=param_test,\n",
    "                      scoring=f1_scorer,\n",
    "                      n_jobs=4,\n",
    "                      iid=True,\n",
    "                      cv=10)\n",
    "gsearch.fit(train_data[predictors],train_data[target])\n",
    "print(\"Best obtained Score:\",gsearch.best_score_)\n",
    "print(\"Best obtained parameters:\",gsearch.best_params_)"
   ]
  },
  {
   "cell_type": "markdown",
   "metadata": {},
   "source": [
    "Final model after tuning"
   ]
  },
  {
   "cell_type": "code",
   "execution_count": 31,
   "metadata": {},
   "outputs": [
    {
     "name": "stdout",
     "output_type": "stream",
     "text": [
      "Final decision tree model \n",
      "\n",
      "Training Accuracy:  0.99\n",
      "Testing Accuracy:  0.94\n",
      "ROC-AUC:  0.93\n",
      "Classification Report:\n",
      "              precision    recall  f1-score   support\n",
      "\n",
      "           B       0.94      0.96      0.95        69\n",
      "           M       0.93      0.91      0.92        45\n",
      "\n",
      "   micro avg       0.94      0.94      0.94       114\n",
      "   macro avg       0.94      0.93      0.94       114\n",
      "weighted avg       0.94      0.94      0.94       114\n",
      "\n",
      "Confusion Matrix: \n",
      "    0   1\n",
      "0  66   3\n",
      "1   4  41\n",
      "Labels: M - 1 | B - 0\n"
     ]
    },
    {
     "data": {
      "image/png": "[encoded data removed]",
      "text/plain": [
       "<Figure size 432x288 with 1 Axes>"
      ]
     },
     "metadata": {
      "needs_background": "light"
     },
     "output_type": "display_data"
    }
   ],
   "source": [
    "decision_tree_model=tree.DecisionTreeClassifier(criterion=\"gini\",\n",
    "                                                max_depth=4,\n",
    "                                               min_impurity_decrease=0.005)\n",
    "print('Final decision tree model \\n')\n",
    "model_fit(decision_tree_model,train_data,test_data,predictors,target,1)"
   ]
  },
  {
   "cell_type": "markdown",
   "metadata": {},
   "source": [
    "#### Method 3: KNN Classifier"
   ]
  },
  {
   "cell_type": "markdown",
   "metadata": {},
   "source": [
    "Visualization of the decision boundaries for multiple k values"
   ]
  },
  {
   "cell_type": "code",
   "execution_count": 49,
   "metadata": {
    "scrolled": true
   },
   "outputs": [
    {
     "data": {
      "image/png": "[encoded data removed]",
      "text/plain": [
       "<Figure size 432x288 with 1 Axes>"
      ]
     },
     "metadata": {
      "needs_background": "light"
     },
     "output_type": "display_data"
    }
   ],
   "source": [
    "test_accuracies = []\n",
    "train_accuracies= []\n",
    "k_range = list(range(1, 25, 1))\n",
    "accuracy_metric = metrics.make_scorer(metrics.accuracy_score)#, pos_label=\"M\")\n",
    "for k in k_range:\n",
    "    model = neighbors.KNeighborsClassifier(n_neighbors=k)\n",
    "    model.fit(train_data[predictors],train_data[target])\n",
    "    error_test = model.score(test_data[predictors], test_data[target])\n",
    "    error_train = model.score(train_data[predictors], train_data[target])\n",
    "    test_accuracies.append(error_test)\n",
    "    train_accuracies.append(error_train)\n",
    "\n",
    "\n",
    "line1, =plt.plot(k_range, test_accuracies,label='test_accuracies')\n",
    "line2, =plt.plot(k_range, train_accuracies,  label='train_accuracies')\n",
    "\n",
    "plt.xlabel(\"k\")\n",
    "plt.ylabel(\"Accuracy\")\n",
    "plt.legend((line1, line2), ('test', 'train'))\n",
    "plt.show()\n",
    "# plot misclassification error vs k\n",
    "#plt.plot(k_range, test_scores)\n",
    "#plt.xlabel(\"Number of Neighbors K\")\n",
    "#plt.ylabel(\"Misclassification Error\")\n",
    "#plt.show()"
   ]
  },
  {
   "cell_type": "markdown",
   "metadata": {},
   "source": [
    "Paramater tuning using grid search"
   ]
  },
  {
   "cell_type": "code",
   "execution_count": 34,
   "metadata": {},
   "outputs": [
    {
     "name": "stdout",
     "output_type": "stream",
     "text": [
      "Best Score: 0.9061236439990611\n",
      "Best parameters: {'n_neighbors': 9, 'weights': 'distance'}\n"
     ]
    }
   ],
   "source": [
    "param_test ={'n_neighbors':list(range(1,20)),\n",
    "             'weights':('uniform','distance')}\n",
    "\n",
    "f1_scorer = metrics.make_scorer(metrics.f1_score, pos_label=\"M\")\n",
    "gsearch=GridSearchCV(estimator=neighbors.KNeighborsClassifier(),\n",
    "                      param_grid=param_test,\n",
    "                      scoring=f1_scorer,\n",
    "                      n_jobs=4,\n",
    "                      iid=True,\n",
    "                      cv=10)\n",
    "gsearch.fit(train_data[predictors],train_data[target])\n",
    "print(\"Best Score:\",gsearch.best_score_)\n",
    "print(\"Best parameters:\",gsearch.best_params_)"
   ]
  },
  {
   "cell_type": "markdown",
   "metadata": {},
   "source": [
    "Final model after tuning"
   ]
  },
  {
   "cell_type": "code",
   "execution_count": 35,
   "metadata": {},
   "outputs": [
    {
     "name": "stdout",
     "output_type": "stream",
     "text": [
      "KNN model with 5 neighbors\n",
      "\n",
      "Training Accuracy:  0.94\n",
      "Testing Accuracy:  0.95\n",
      "ROC-AUC:  0.98\n",
      "Classification Report:\n",
      "              precision    recall  f1-score   support\n",
      "\n",
      "           B       0.93      0.99      0.96        69\n",
      "           M       0.98      0.89      0.93        45\n",
      "\n",
      "   micro avg       0.95      0.95      0.95       114\n",
      "   macro avg       0.95      0.94      0.94       114\n",
      "weighted avg       0.95      0.95      0.95       114\n",
      "\n",
      "Confusion Matrix: \n",
      "    0   1\n",
      "0  68   1\n",
      "1   5  40\n",
      "Labels: M - 1 | B - 0\n"
     ]
    }
   ],
   "source": [
    "knn=neighbors.KNeighborsClassifier(n_neighbors=5,weights='uniform')\n",
    "print(\"KNN model with 5 neighbors\\n\")\n",
    "model_fit(knn,train_data,test_data,predictors,target,0)"
   ]
  },
  {
   "cell_type": "markdown",
   "metadata": {},
   "source": [
    "#### Method3: Logistic Regression"
   ]
  },
  {
   "cell_type": "code",
   "execution_count": 59,
   "metadata": {},
   "outputs": [
    {
     "data": {
      "image/png": "[encoded data removed]",
      "text/plain": [
       "<Figure size 432x288 with 1 Axes>"
      ]
     },
     "metadata": {
      "needs_background": "light"
     },
     "output_type": "display_data"
    }
   ],
   "source": [
    "\n",
    "plot_colors = \"ybg\"\n",
    "plot_step = 0.02  # step size in the mesh\n",
    "# We only take the two corresponding features\n",
    "X = data[['concave_points_sd','fractal_dimension_worst']]\n",
    "y = data['Diagnosis']\n",
    "n_classes = len(set(y))\n",
    "\n",
    "# we train again model with two variables to visualize decision boundaries\n",
    "clf = clf.fit(X, y) \n",
    "\n",
    "# Plot the decision boundary. For that, we will assign a color to each\n",
    "# point in the mesh [x_min, m_max]x[y_min, y_max].   \n",
    "x_min, x_max = X['concave_points_sd'].min() - 1, X['concave_points_sd'].max() + 1\n",
    "y_min, y_max = X['fractal_dimension_worst'].min() - 1, X['fractal_dimension_worst'].max() + 1\n",
    "xx, yy = np.meshgrid(np.arange(x_min, x_max, plot_step),\n",
    "                         np.arange(y_min, y_max, plot_step))\n",
    "\n",
    "Z = clf.predict(np.c_[xx.ravel(), yy.ravel()])\n",
    "Z[Z==\"M\"] = 1\n",
    "Z[Z==\"B\"] = 0\n",
    "Z = Z.reshape(xx.shape)\n",
    "cs = plt.contourf(xx, yy, Z, cmap=plt.cm.Paired)\n",
    "\n",
    "plt.xlabel('concave_points_sd')\n",
    "plt.ylabel('fractal_dimension_worst')\n",
    "plt.axis(\"tight\")\n",
    "\n",
    "# Plot the training points\n",
    "for i, color in zip(range(n_classes), plot_colors):\n",
    "    if i== 0:\n",
    "        val=\"B\"\n",
    "    else:\n",
    "        val=\"M\"\n",
    "    #idx = np.where(y == val)\n",
    "    plt.scatter(X[y==val][\"concave_points_sd\"].values,\n",
    "                X[y==val][\"fractal_dimension_worst\"].values,\n",
    "                c=color, label=[\"M\",\"B\"][i],\n",
    "                cmap=plt.cm.Paired)\n",
    "\n",
    "plt.axis(\"tight\")\n",
    "plt.suptitle(\"Decision surface\")\n",
    "plt.legend()\n",
    "plt.show()"
   ]
  },
  {
   "cell_type": "markdown",
   "metadata": {},
   "source": [
    "Paramater tuning using grid search"
   ]
  },
  {
   "cell_type": "code",
   "execution_count": 37,
   "metadata": {},
   "outputs": [
    {
     "name": "stdout",
     "output_type": "stream",
     "text": [
      "Best Score: 0.9500862220217059\n",
      "Best parameters: {'C': 100, 'penalty': 'l1'}\n"
     ]
    }
   ],
   "source": [
    "param_test ={'C':[0.001, 0.01, 0.1, 1, 10, 100],\n",
    "             'penalty':('l1','l2')}\n",
    "\n",
    "lr=linear_model.LogisticRegression(random_state=10,multi_class='ovr')\n",
    "f1_scorer = metrics.make_scorer(metrics.f1_score, pos_label=\"M\")\n",
    "gsearch=GridSearchCV(estimator=lr,\n",
    "                      param_grid=param_test,\n",
    "                      scoring=f1_scorer,\n",
    "                      n_jobs=4,\n",
    "                      iid=True,\n",
    "                      cv=10)\n",
    "gsearch.fit(train_data[predictors],train_data[target])\n",
    "print(\"Best Score:\",gsearch.best_score_)\n",
    "print(\"Best parameters:\",gsearch.best_params_)"
   ]
  },
  {
   "cell_type": "markdown",
   "metadata": {},
   "source": [
    "Final model after tuning"
   ]
  },
  {
   "cell_type": "code",
   "execution_count": 38,
   "metadata": {},
   "outputs": [
    {
     "name": "stdout",
     "output_type": "stream",
     "text": [
      "Training Accuracy:  0.98\n",
      "Testing Accuracy:  0.96\n",
      "ROC-AUC:  1.0\n",
      "Classification Report:\n",
      "              precision    recall  f1-score   support\n",
      "\n",
      "           B       0.99      0.96      0.97        69\n",
      "           M       0.94      0.98      0.96        45\n",
      "\n",
      "   micro avg       0.96      0.96      0.96       114\n",
      "   macro avg       0.96      0.97      0.96       114\n",
      "weighted avg       0.97      0.96      0.97       114\n",
      "\n",
      "Confusion Matrix: \n",
      "    0   1\n",
      "0  66   3\n",
      "1   1  44\n",
      "Labels: M - 1 | B - 0\n"
     ]
    }
   ],
   "source": [
    "logistic_regression = linear_model.LogisticRegression(C=10,penalty='l1',multi_class='ovr')\n",
    "model_fit(logistic_regression,train_data,test_data,predictors,target,0)"
   ]
  },
  {
   "cell_type": "markdown",
   "metadata": {},
   "source": []
  },
  {
   "cell_type": "markdown",
   "metadata": {},
   "source": []
  }
 ],
 "metadata": {
  "kernelspec": {
   "display_name": "Python 3",
   "language": "python",
   "name": "python3"
  },
  "language_info": {
   "codemirror_mode": {
    "name": "ipython",
    "version": 3
   },
   "file_extension": ".py",
   "mimetype": "text/x-python",
   "name": "python",
   "nbconvert_exporter": "python",
   "pygments_lexer": "ipython3",
   "version": "3.7.4"
  },
  "toc": {
   "base_numbering": 1,
   "nav_menu": {},
   "number_sections": false,
   "sideBar": true,
   "skip_h1_title": false,
   "title_cell": "Table of Contents",
   "title_sidebar": "Contents",
   "toc_cell": false,
   "toc_position": {},
   "toc_section_display": true,
   "toc_window_display": false
  }
 },
 "nbformat": 4,
 "nbformat_minor": 2
}
